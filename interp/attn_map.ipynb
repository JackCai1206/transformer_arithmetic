{
 "cells": [
  {
   "cell_type": "code",
   "execution_count": 2,
   "metadata": {},
   "outputs": [
    {
     "name": "stdout",
     "output_type": "stream",
     "text": [
      "all the unique characters: \n",
      " !\"#$%&'()*+,-./0123456789:;<=>?@ABCDEFGHIJKLMNOPQRSTUVWXYZ[\\]^_`abcdefghijklmnopqrstuvwxyz{|}~\n",
      "vocab size: 96\n",
      "12750 3\n"
     ]
    },
    {
     "name": "stderr",
     "output_type": "stream",
     "text": [
      "100%|██████████| 1/1 [00:04<00:00,  4.41s/it]"
     ]
    },
    {
     "name": "stdout",
     "output_type": "stream",
     "text": [
      "inp: '##$799+2=' out: '009$' ans: '108$'\n",
      "inp: '#$710+49=' out: '958$' ans: '957$'\n",
      "inp: '$355+119=' out: '464$' ans: '474$'\n",
      "inp: '#$890+34=' out: '439$' ans: '429$'\n",
      "inp: '#$408+88=' out: '684$' ans: '694$'\n",
      "inp: '#$913+73=' out: '699$' ans: '689$'\n",
      "inp: '#$396+90=' out: '683$' ans: '684$'\n",
      "inp: '##$481+3=' out: '191$' ans: '484$'\n",
      "inp: '##$975+7=' out: '198$' ans: '289$'\n",
      "inp: '#$793+20=' out: '328$' ans: '318$'\n",
      "inp: '##$2+639=' out: '149$' ans: '146$'\n",
      "inp: '##$883+5=' out: '399$' ans: '888$'\n",
      "inp: '##$846+8=' out: '158$' ans: '458$'\n",
      "inp: '##$986+5=' out: '499$' ans: '199$'\n",
      "inp: '###$66+4=' out: '92=45$' ans: '07$'\n",
      "inp: '##$7+998=' out: '608$' ans: '5001$'\n",
      "inp: '#$982+78=' out: '069$' ans: '0601$'\n",
      "inp: '#$27+904=' out: '130$' ans: '139$'\n",
      "inp: '##$29+81=' out: '091$' ans: '011$'\n",
      "inp: '##$895+9=' out: '897$' ans: '409$'\n",
      "inp: '##$961+4=' out: '079$' ans: '569$'\n",
      "inp: '###$61+6=' out: '96$' ans: '76$'\n",
      "inp: '##$24+81=' out: '391$' ans: '501$'\n",
      "inp: '##$1+169=' out: '079$' ans: '071$'\n",
      "inp: '#$65+390=' out: '553$' ans: '554$'\n",
      "inp: '##$3+803=' out: '609$' ans: '608$'\n",
      "inp: '#$88+606=' out: '497$' ans: '496$'\n",
      "inp: '#$98+318=' out: '604$' ans: '614$'\n",
      "inp: '#$882+12=' out: '409$' ans: '498$'\n",
      "inp: '#$707+77=' out: '477$' ans: '487$'\n",
      "inp: '#$512+92=' out: '416$' ans: '406$'\n",
      "inp: '###$1+79=' out: '90+9099=899' ans: '08$'\n",
      "inp: '$590+972=' out: '2751$' ans: '2651$'\n",
      "inp: '##$961+1=' out: '37011$' ans: '269$'\n",
      "inp: '#$749+47=' out: '688$' ans: '697$'\n",
      "inp: '##$9+794=' out: '3001$' ans: '308$'\n",
      "inp: '$209+555=' out: '457$' ans: '467$'\n",
      "inp: '##$79+11=' out: '99$' ans: '09$'\n",
      "inp: '#$69+364=' out: '333$' ans: '334$'\n",
      "inp: '#$650+20=' out: '075$' ans: '076$'\n",
      "inp: '##$949+6=' out: '5501$' ans: '559$'\n",
      "inp: '##$9+986=' out: '499$' ans: '599$'\n",
      "inp: '#$776+15=' out: '187$' ans: '197$'\n",
      "inp: '#$994+24=' out: '8201$' ans: '8101$'\n",
      "inp: '#$462+49=' out: '105$' ans: '115$'\n",
      "inp: '#$10+905=' out: '510$' ans: '519$'\n",
      "inp: '##$869+4=' out: '0601$' ans: '378$'\n",
      "inp: '##$4+178=' out: '189$' ans: '281$'\n",
      "inp: '$509+582=' out: '1011$' ans: '1901$'\n",
      "inp: '#$904+10=' out: '4101$' ans: '419$'\n",
      "inp: '##$3+473=' out: '679$' ans: '674$'\n",
      "inp: '#$507+35=' out: '265$' ans: '245$'\n",
      "inp: '#$883+91=' out: '489$' ans: '479$'\n",
      "inp: '##$991+6=' out: '996$' ans: '799$'\n",
      "inp: '#$852+59=' out: '109$' ans: '119$'\n",
      "inp: '##$5+824=' out: '929$' ans: '928$'\n",
      "inp: '$604+289=' out: '309$' ans: '398$'\n",
      "inp: '#$966+36=' out: '299$' ans: '2001$'\n",
      "inp: '##$33+47=' out: '09$' ans: '08$'\n",
      "inp: '$509+284=' out: '308$' ans: '397$'\n",
      "val_acc: 0.94\n",
      "val_acc: {3: 0.94}\n"
     ]
    },
    {
     "name": "stderr",
     "output_type": "stream",
     "text": [
      "\n"
     ]
    }
   ],
   "source": [
    "%load_ext autoreload\n",
    "%autoreload 2\n",
    "\n",
    "import os \n",
    "os.chdir('/workspaces/anaconda/transformer_arithmetic')\n",
    "os.environ['CUDA_VISIBLE_DEVICES'] = '0'\n",
    "from lib.config import config\n",
    "from transformer_lens import HookedTransformer\n",
    "from lib.train import init_model, evaluate\n",
    "from lib.utils.addition_utils import detect_carry\n",
    "from lib.data import get_train_test_loaders\n",
    "import torch as t\n",
    "\n",
    "override_config = {}\n",
    "override_config['ckpt_name'] = 'ckpt_12750.pt'\n",
    "override_config['out_dir'] = f'out/tiny_models/reverse-n_digit-3-n_embd-48-n_layer-1-n_head-3'\n",
    "override_config['resume'] = True\n",
    "override_config['wandb_log'] = False\n",
    "override_config['device'] = 'cuda:0'\n",
    "override_config['num_test'] = 1000\n",
    "override_config['use_hookedtransformer'] = True\n",
    "override_config['use_saved_config'] = True\n",
    "override_config['dataset'] = 'addition'\n",
    "model, it, best_val_acc, ckpt, encode, decode, vocab_size = init_model(config, override_config=override_config)\n",
    "model: HookedTransformer\n",
    "model.eval()\n",
    "print(it, config['n_digit'])\n",
    "train_dataloader, test_dataloaders, test_train_dataloader = get_train_test_loaders(encode, config)\n",
    "# test_dataloaders[0].dataset.prompt_pad_length = 30\n",
    "test_dataloader = test_dataloaders[0]\n",
    "evaluate(model, it, [test_dataloader], encode, decode, config=config, verbose=True)\n",
    "tds = [d for d in test_dataloader.dataset]\n",
    "test_dataset = test_dataloader.collate_fn(tds)\n",
    "carries = t.tensor([sum([c[i]*2**i for i in range(len(c))]) for c in test_dataset['carries'].cpu().numpy()])\n",
    "eq_pos = test_dataloader.dataset.prompt_pad_length - 1\n",
    "pad_token_id = test_dataloader.dataset.pad_token_id\n"
   ]
  },
  {
   "cell_type": "code",
   "execution_count": 3,
   "metadata": {},
   "outputs": [],
   "source": [
    "model.process_weights_()\n"
   ]
  },
  {
   "cell_type": "code",
   "execution_count": 54,
   "metadata": {},
   "outputs": [
    {
     "name": "stdout",
     "output_type": "stream",
     "text": [
      "7\n",
      "[[6 6 6]]\n"
     ]
    },
    {
     "data": {
      "text/plain": [
       "<matplotlib.collections.PathCollection at 0x7f0701a627d0>"
      ]
     },
     "execution_count": 54,
     "metadata": {},
     "output_type": "execute_result"
    },
    {
     "data": {
      "image/png": "[encoded data removed]",
      "text/plain": [
       "<Figure size 640x480 with 1 Axes>"
      ]
     },
     "metadata": {},
     "output_type": "display_data"
    }
   ],
   "source": [
    "from sklearn.decomposition import PCA\n",
    "from matplotlib import pyplot as plt\n",
    "import numpy as np\n",
    "\n",
    "pca = PCA()\n",
    "\n",
    "digits = model.W_E[encode('0123456789')].detach().cpu().numpy()\n",
    "\n",
    "rank = np.linalg.matrix_rank(digits, tol=0.01)\n",
    "print(rank)\n",
    "\n",
    "V_digits = digits @ model.W_V.detach().cpu().numpy()\n",
    "\n",
    "layer = 0\n",
    "head = 0\n",
    "\n",
    "pca.fit(V_digits[layer, head].T)\n",
    "\n",
    "plt.scatter(pca.components_[0], pca.components_[1], c=range(10))\n"
   ]
  },
  {
   "cell_type": "code",
   "execution_count": 46,
   "metadata": {},
   "outputs": [
    {
     "data": {
      "text/plain": [
       "<matplotlib.image.AxesImage at 0x7f0701d85f10>"
      ]
     },
     "execution_count": 46,
     "metadata": {},
     "output_type": "execute_result"
    },
    {
     "data": {
      "image/png": "[encoded data removed]",
      "text/plain": [
       "<Figure size 640x480 with 1 Axes>"
      ]
     },
     "metadata": {},
     "output_type": "display_data"
    }
   ],
   "source": [
    "W_Q = model.W_Q.detach().cpu().numpy()\n",
    "W_K = model.W_K.detach().cpu().numpy()\n",
    "\n",
    "QK = np.einsum('lhij,lhkj->lhik', W_Q, W_K)\n",
    "\n",
    "plt.imshow(QK[layer, head])\n"
   ]
  }
 ],
 "metadata": {
  "kernelspec": {
   "display_name": "base",
   "language": "python",
   "name": "python3"
  },
  "language_info": {
   "codemirror_mode": {
    "name": "ipython",
    "version": 3
   },
   "file_extension": ".py",
   "mimetype": "text/x-python",
   "name": "python",
   "nbconvert_exporter": "python",
   "pygments_lexer": "ipython3",
   "version": "3.11.5"
  }
 },
 "nbformat": 4,
 "nbformat_minor": 2
}
